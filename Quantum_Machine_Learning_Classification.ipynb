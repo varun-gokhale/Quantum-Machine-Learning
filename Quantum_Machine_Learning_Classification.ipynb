{
 "cells": [
  {
   "cell_type": "markdown",
   "id": "2fe04d0c",
   "metadata": {},
   "source": [
    "## Installing Libraries needed for Quantum Machine Learning"
   ]
  },
  {
   "cell_type": "markdown",
   "id": "3adef083",
   "metadata": {},
   "source": [
    "This Tutorial depends on the code represented on the qiskit official website and the website can be accessed from here https://qiskit.org/documentation/machine-learning/tutorials/02_neural_network_classifier_and_regressor.html"
   ]
  },
  {
   "cell_type": "code",
   "execution_count": null,
   "id": "395faa12",
   "metadata": {
    "scrolled": true
   },
   "outputs": [],
   "source": [
    "%pip install qiskit\n",
    "%pip install qiskit_machine_learning\n",
    "%pip install imbalanced-learn\n",
    "%pip install pylatexenc"
   ]
  },
  {
   "cell_type": "markdown",
   "id": "31eaeb17",
   "metadata": {},
   "source": [
    "#### Note : Restart the kernel after installing the required library to take those installations into effect"
   ]
  },
  {
   "cell_type": "markdown",
   "id": "bb5fe458",
   "metadata": {},
   "source": [
    "### Importing the libraries"
   ]
  },
  {
   "cell_type": "code",
   "execution_count": null,
   "id": "8641d4c4",
   "metadata": {},
   "outputs": [],
   "source": [
    "import numpy as np\n",
    "import matplotlib.pyplot as plt\n",
    "import pandas as pd\n",
    "import seaborn as sns\n",
    "from qiskit import Aer, QuantumCircuit\n",
    "from qiskit.opflow import Z, I, StateFn\n",
    "from qiskit.utils import QuantumInstance, algorithm_globals\n",
    "from qiskit.circuit import Parameter\n",
    "from qiskit.circuit.library import RealAmplitudes, ZZFeatureMap\n",
    "from qiskit.algorithms.optimizers import COBYLA, L_BFGS_B\n",
    "from sklearn.metrics import classification_report\n",
    "from qiskit_machine_learning.neural_networks import TwoLayerQNN, CircuitQNN\n",
    "from qiskit_machine_learning.algorithms.classifiers import NeuralNetworkClassifier, VQC\n",
    "from qiskit_machine_learning.algorithms.regressors import NeuralNetworkRegressor, VQR\n",
    "from typing import Union\n",
    "from sklearn.model_selection import train_test_split\n",
    "from qiskit_machine_learning.exceptions import QiskitMachineLearningError\n",
    "from imblearn.over_sampling import SMOTE\n",
    "from IPython.display import clear_output"
   ]
  },
  {
   "cell_type": "markdown",
   "id": "8f015721",
   "metadata": {},
   "source": [
    "### Reading the dataset"
   ]
  },
  {
   "cell_type": "markdown",
   "id": "fb9133b5",
   "metadata": {},
   "source": [
    "The probem statement is to predict Milk quality on the basis of the input features. The dataset was taken from kaggle."
   ]
  },
  {
   "cell_type": "code",
   "execution_count": null,
   "id": "62719020",
   "metadata": {},
   "outputs": [],
   "source": [
    "data=pd.read_csv(\"milknew.csv\")"
   ]
  },
  {
   "cell_type": "code",
   "execution_count": null,
   "id": "56f6a450",
   "metadata": {},
   "outputs": [],
   "source": [
    "data.head(5)"
   ]
  },
  {
   "cell_type": "markdown",
   "id": "4a6ff508",
   "metadata": {},
   "source": [
    "#### Getting the description and information about the dataset"
   ]
  },
  {
   "cell_type": "code",
   "execution_count": null,
   "id": "218683cb",
   "metadata": {},
   "outputs": [],
   "source": [
    "data.info()"
   ]
  },
  {
   "cell_type": "code",
   "execution_count": null,
   "id": "99a45062",
   "metadata": {},
   "outputs": [],
   "source": [
    "data.describe()"
   ]
  },
  {
   "cell_type": "markdown",
   "id": "79089fb9",
   "metadata": {},
   "source": [
    "The Task is to predict the Grade of the Milk.so Grade here is our target variable"
   ]
  },
  {
   "cell_type": "code",
   "execution_count": null,
   "id": "25a8dc10",
   "metadata": {},
   "outputs": [],
   "source": [
    "data['Grade'].value_counts()"
   ]
  },
  {
   "cell_type": "markdown",
   "id": "ebc7f1cf",
   "metadata": {},
   "source": [
    "#### Removing one category from target Variable\n",
    "\n",
    "Here we are seeing the Taget variable is having three categories. Since this tutorial is concerned with the Implementation of Quantum Computing in Machine learning, we will deal with only Two categories of the target variable that is High and low.\n",
    "\n",
    "For this we will remove all the data that is concerned with the target category as medium and after removing we will balance the class"
   ]
  },
  {
   "cell_type": "code",
   "execution_count": null,
   "id": "5d31b0c2",
   "metadata": {},
   "outputs": [],
   "source": [
    "df=data[(data['Grade']=='low')| (data['Grade']=='high')]"
   ]
  },
  {
   "cell_type": "code",
   "execution_count": null,
   "id": "674bb6e3",
   "metadata": {},
   "outputs": [],
   "source": [
    "df['Grade'].value_counts()"
   ]
  },
  {
   "cell_type": "markdown",
   "id": "538eb005",
   "metadata": {},
   "source": [
    "#### Balancing the Categories\n",
    "\n",
    "Since we have removed one category, the dataset got imbalanced. To omit the chances of overfitiing let's balance the dataset using SMOTE Algorithm"
   ]
  },
  {
   "cell_type": "code",
   "execution_count": null,
   "id": "e9653bfd",
   "metadata": {},
   "outputs": [],
   "source": [
    "sm = SMOTE(random_state = 42)\n",
    "X_oversampled, y_oversampled = sm.fit_resample(df.iloc[:,:-1], df.iloc[:,-1])\n",
    "X = pd.DataFrame(X_oversampled, columns=df.iloc[:,:-1].columns)\n",
    "Y = pd.DataFrame(y_oversampled, columns=[list(df.columns)[-1]])\n",
    "df_balanced=pd.concat([X,Y],axis=1)"
   ]
  },
  {
   "cell_type": "code",
   "execution_count": null,
   "id": "346deb12",
   "metadata": {},
   "outputs": [],
   "source": [
    "df_balanced['Grade'].value_counts()"
   ]
  },
  {
   "cell_type": "code",
   "execution_count": null,
   "id": "b987ce5f",
   "metadata": {},
   "outputs": [],
   "source": [
    "df_balanced.head(5)"
   ]
  },
  {
   "cell_type": "code",
   "execution_count": null,
   "id": "e94fe370",
   "metadata": {},
   "outputs": [],
   "source": [
    "df_balanced.shape"
   ]
  },
  {
   "cell_type": "markdown",
   "id": "34247120",
   "metadata": {},
   "source": [
    "###  Exploratory Data Analysis"
   ]
  },
  {
   "cell_type": "markdown",
   "id": "18377467",
   "metadata": {},
   "source": [
    "#### Plotting the scatter plot between PH and Hued grouped by Taste"
   ]
  },
  {
   "cell_type": "code",
   "execution_count": null,
   "id": "6137026f",
   "metadata": {},
   "outputs": [],
   "source": [
    "sns.scatterplot(data=df_balanced,x='pH',y='Temprature',hue='Taste')"
   ]
  },
  {
   "cell_type": "markdown",
   "id": "035c9c85",
   "metadata": {},
   "source": [
    "#### Plotting the scatter plot between PH and Hued grouped by Odor"
   ]
  },
  {
   "cell_type": "code",
   "execution_count": null,
   "id": "5d56efb8",
   "metadata": {},
   "outputs": [],
   "source": [
    "sns.scatterplot(data=df_balanced,x='pH',y='Temprature',hue='Odor')"
   ]
  },
  {
   "cell_type": "code",
   "execution_count": null,
   "id": "c1ffdf8b",
   "metadata": {},
   "outputs": [],
   "source": [
    "\n",
    "plt.xticks(rotation='70')\n",
    "sns.barplot(data=df_balanced,x='pH',y='Temprature',hue='Odor')"
   ]
  },
  {
   "cell_type": "markdown",
   "id": "f646ccf6",
   "metadata": {},
   "source": [
    "### Label encoding the Target column"
   ]
  },
  {
   "cell_type": "code",
   "execution_count": null,
   "id": "31310ecc",
   "metadata": {},
   "outputs": [],
   "source": [
    "df_balanced['Grade']=df_balanced['Grade'].map({\"high\":1,\"low\":0})"
   ]
  },
  {
   "cell_type": "markdown",
   "id": "66180b02",
   "metadata": {},
   "source": [
    "### Splitting the Dataframe into Train and test"
   ]
  },
  {
   "cell_type": "markdown",
   "id": "b35c3459",
   "metadata": {},
   "source": [
    "Splitting the Dataframe to Train and testfor training and validation Purposes. Also converting the splitted dataframes to numpy array as it will be needed while training the model"
   ]
  },
  {
   "cell_type": "code",
   "execution_count": null,
   "id": "bdfd7367",
   "metadata": {},
   "outputs": [],
   "source": [
    "X_train,X_test,Y_train,Y_test=train_test_split(df_balanced.iloc[:,:-1],df_balanced.iloc[:,-1])\n",
    "X_train=np.array(X_train)\n",
    "X_test=np.array(X_test)\n",
    "Y_train=np.array(Y_train)\n",
    "Y_test=np.array(Y_test)"
   ]
  },
  {
   "cell_type": "markdown",
   "id": "d32a3864",
   "metadata": {},
   "source": [
    "### Classification with a CircuitQNN\n",
    "\n",
    "\n",
    "Next we show how a CircuitQNN can be used for classification within a NeuralNetworkClassifier. In this context, the CircuitQNN is expected to return -dimensional probability vector as output, where  denotes the number of classes. Sampling from a QuantumCircuit automatically results in a probability distribution and we just need to define a mapping from the measured bitstrings to the different classes. For binary classification we use the parity mapping.\n",
    "\n",
    "Since we have number of input variables or features = 7, so we will use 7 qubits."
   ]
  },
  {
   "cell_type": "code",
   "execution_count": null,
   "id": "04844564",
   "metadata": {
    "scrolled": false
   },
   "outputs": [],
   "source": [
    "quantum_instance = QuantumInstance(Aer.get_backend(\"qasm_simulator\"), shots=100)\n",
    "# construct feature map\n",
    "num_inputs=df.iloc[:,:-1].shape[1]\n",
    "feature_map = ZZFeatureMap(num_inputs)\n",
    "\n",
    "# construct ansatz\n",
    "ansatz = RealAmplitudes(num_inputs, reps=2)\n",
    "\n",
    "# construct quantum circuit\n",
    "qc = QuantumCircuit(num_inputs)\n",
    "qc.append(feature_map, range(num_inputs))\n",
    "qc.append(ansatz, range(num_inputs))\n",
    "qc.decompose().draw(output=\"mpl\")"
   ]
  },
  {
   "cell_type": "code",
   "execution_count": null,
   "id": "b666db90",
   "metadata": {},
   "outputs": [],
   "source": [
    "# parity maps bitstrings to 0 or 1\n",
    "def parity(x):\n",
    "    return \"{:b}\".format(x).count(\"1\") % 2\n",
    "\n",
    "\n",
    "output_shape = 2  # corresponds to the number of classes, possible outcomes of the (parity) mapping."
   ]
  },
  {
   "cell_type": "markdown",
   "id": "912c66a1",
   "metadata": {},
   "source": [
    "#### callback function that draws a live plot when the .fit() method is called"
   ]
  },
  {
   "cell_type": "code",
   "execution_count": null,
   "id": "d4b8f387",
   "metadata": {},
   "outputs": [],
   "source": [
    " def callback_graph(weights, obj_func_eval):\n",
    "    clear_output(wait=True)\n",
    "    objective_func_vals.append(obj_func_eval)\n",
    "    plt.title(\"Objective function value against iteration\")\n",
    "    plt.xlabel(\"Iteration\")\n",
    "    plt.ylabel(\"Objective function value\")\n",
    "    plt.plot(range(len(objective_func_vals)), objective_func_vals)\n",
    "    plt.show()\n"
   ]
  },
  {
   "cell_type": "markdown",
   "id": "d304f4a2",
   "metadata": {},
   "source": [
    "#### construct QNN"
   ]
  },
  {
   "cell_type": "code",
   "execution_count": null,
   "id": "2ead8971",
   "metadata": {},
   "outputs": [],
   "source": [
    "circuit_qnn = CircuitQNN(\n",
    "    circuit=qc,\n",
    "    input_params=feature_map.parameters,\n",
    "    weight_params=ansatz.parameters,\n",
    "    interpret=parity,\n",
    "    output_shape=output_shape,\n",
    "    quantum_instance=quantum_instance,\n",
    ")"
   ]
  },
  {
   "cell_type": "code",
   "execution_count": null,
   "id": "c80f966f",
   "metadata": {},
   "outputs": [],
   "source": [
    "# construct classifier\n",
    "circuit_classifier = NeuralNetworkClassifier(\n",
    "    neural_network=circuit_qnn, optimizer=COBYLA(), callback=callback_graph\n",
    ")"
   ]
  },
  {
   "cell_type": "markdown",
   "id": "5e56e565",
   "metadata": {},
   "source": [
    "Training on Simulators will take time and for the sake of it we have used only 100 rows of the data. If you have real QPUs you can run it on whole dataset"
   ]
  },
  {
   "cell_type": "code",
   "execution_count": null,
   "id": "f61fde89",
   "metadata": {},
   "outputs": [],
   "source": [
    "# create empty array for callback to store evaluations of the objective function\n",
    "objective_func_vals = []\n",
    "plt.rcParams[\"figure.figsize\"] = (12, 6)\n",
    "\n",
    "# fit classifier to data\n",
    "circuit_classifier.fit(X_train[:100], Y_train[:100])\n",
    "\n",
    "# return to default figsize\n",
    "plt.rcParams[\"figure.figsize\"] = (6, 4)\n",
    "\n",
    "# score classifier\n",
    "circuit_classifier.score(X_train, Y_train)\n"
   ]
  },
  {
   "cell_type": "code",
   "execution_count": null,
   "id": "466e3af0",
   "metadata": {},
   "outputs": [],
   "source": [
    "# evaluate data points\n",
    "y_predict = circuit_classifier.predict(X_test)"
   ]
  },
  {
   "cell_type": "code",
   "execution_count": null,
   "id": "a71e5b65",
   "metadata": {},
   "outputs": [],
   "source": [
    "print(classification_report(y_predict,Y_test))"
   ]
  },
  {
   "cell_type": "markdown",
   "id": "0e38327d",
   "metadata": {},
   "source": [
    "We have achieved the accuracy of 66%. Let's try to build VQC and see if there is any accuracy improvements"
   ]
  },
  {
   "cell_type": "markdown",
   "id": "0b11f1c5",
   "metadata": {},
   "source": [
    "### Classification with Variational Quantum Classifier (VQC)\n",
    "\n",
    "\n",
    "The VQC is a special variant of the NeuralNetworkClassifier with a CircuitQNN. It applies a parity mapping (or extensions to multiple classes) to map from the bitstring to the classification, which results in a probability vector, which is interpreted as a one-hot encoded result. By default, it applies this the CrossEntropyLoss function that expects labels given in one-hot encoded format and will return predictions in that format too."
   ]
  },
  {
   "cell_type": "code",
   "execution_count": null,
   "id": "b93f6cae",
   "metadata": {},
   "outputs": [],
   "source": [
    "vqc = VQC(\n",
    "    feature_map=feature_map,\n",
    "    ansatz=ansatz,\n",
    "    loss=\"cross_entropy\",\n",
    "    optimizer=COBYLA(),\n",
    "    quantum_instance=quantum_instance,\n",
    "    callback=callback_graph,\n",
    ")"
   ]
  },
  {
   "cell_type": "markdown",
   "id": "b84c48fc",
   "metadata": {},
   "source": [
    "Since VQC takes Target variable in one hot encoded form, Let's convert our target variable into one hot encoded form"
   ]
  },
  {
   "cell_type": "code",
   "execution_count": null,
   "id": "5152b4bc",
   "metadata": {},
   "outputs": [],
   "source": [
    "Y_one_hot=[]\n",
    "for i in Y_train:\n",
    "    if i==1:\n",
    "        Y_one_hot.append([0,1])\n",
    "    else:\n",
    "        Y_one_hot.append([1,0])\n",
    "Y_one_hot=np.array(Y_one_hot)"
   ]
  },
  {
   "cell_type": "code",
   "execution_count": null,
   "id": "1e14c475",
   "metadata": {},
   "outputs": [],
   "source": [
    "objective_func_vals = []\n",
    "plt.rcParams[\"figure.figsize\"] = (12, 6)\n",
    "\n",
    "# fit classifier to data\n",
    "vqc.fit(X_train[0:50], Y_one_hot[0:50])\n",
    "\n",
    "# return to default figsize\n",
    "plt.rcParams[\"figure.figsize\"] = (6, 4)\n",
    "\n",
    "# score classifier\n",
    "vqc.score(X_train[0:50], Y_one_hot[0:50])"
   ]
  },
  {
   "cell_type": "code",
   "execution_count": null,
   "id": "0e0f75cc",
   "metadata": {},
   "outputs": [],
   "source": [
    "# evaluate data points\n",
    "y_predict = vqc.predict(X_test)"
   ]
  },
  {
   "cell_type": "code",
   "execution_count": null,
   "id": "0e5080af",
   "metadata": {},
   "outputs": [],
   "source": [
    "y_pred=[]\n",
    "for i in y_predict:\n",
    "    if any(i==[1,0]):\n",
    "        y_pred.append(0)\n",
    "    else:\n",
    "        y_pred.append(1)\n",
    "         "
   ]
  },
  {
   "cell_type": "code",
   "execution_count": null,
   "id": "110b4314",
   "metadata": {},
   "outputs": [],
   "source": [
    "print(classification_report(y_pred,Y_test))"
   ]
  }
 ],
 "metadata": {
  "kernelspec": {
   "display_name": "Python 3 (ipykernel)",
   "language": "python",
   "name": "python3"
  },
  "language_info": {
   "codemirror_mode": {
    "name": "ipython",
    "version": 3
   },
   "file_extension": ".py",
   "mimetype": "text/x-python",
   "name": "python",
   "nbconvert_exporter": "python",
   "pygments_lexer": "ipython3",
   "version": "3.9.7"
  }
 },
 "nbformat": 4,
 "nbformat_minor": 5
}
